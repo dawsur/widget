{
 "cells": [
  {
   "cell_type": "code",
   "execution_count": 5,
   "metadata": {},
   "outputs": [
    {
     "data": {
      "application/vnd.jupyter.widget-view+json": {
       "model_id": "89406b3eb871424895d64ef24641a36b",
       "version_major": 2,
       "version_minor": 0
      },
      "text/plain": [
       "VBox(children=(Text(value='1.7, 2.1, 3', description='\\\\(F_a\\\\)'), Text(value='1.2, 1,4, 2.7', description='\\\\…"
      ]
     },
     "metadata": {},
     "output_type": "display_data"
    },
    {
     "data": {
      "application/vnd.jupyter.widget-view+json": {
       "model_id": "c2f8779f53664995b3367e6b576bff57",
       "version_major": 2,
       "version_minor": 0
      },
      "text/plain": [
       "Output()"
      ]
     },
     "metadata": {},
     "output_type": "display_data"
    }
   ],
   "source": [
    "from __future__ import print_function\n",
    "from ipywidgets import interact, interactive, fixed, interact_manual\n",
    "import ipywidgets as widgets\n",
    "from IPython.display import display, Math\n",
    "\n",
    "F_a = widgets.Text('1.7, 2.1, 3', description=r'\\(F_a\\)')\n",
    "F_b = widgets.Text('1.2, 1,4, 2.7', description=r'\\(F_b\\)')\n",
    "b = widgets.Text('1, 1, 1', description=r'\\(b\\)')\n",
    "ui = widgets.VBox([F_a, F_b, b])\n",
    "\n",
    "def intensification_factor(F_a, F_b, b):\n",
    "    \n",
    "    try:\n",
    "    \n",
    "        F_a = [float(i) for i in F_a.split(',')]\n",
    "        F_b = [float(i) for i in F_b.split(',')]\n",
    "        b = [float(i) for i in b.split(',')]\n",
    "    \n",
    "        IF = 1\n",
    "\n",
    "        for i in range(len(F_a)):\n",
    "\n",
    "            IF = IF*((F_a[i]/F_b[i])**b[i])\n",
    "\n",
    "        #display(Math(r'IF = '+ str(round(IF,4))))\n",
    "        print('IF = ', IF)\n",
    "    \n",
    "    except:\n",
    "        \n",
    "        print('IF = -')\n",
    "\n",
    "\n",
    "out = widgets.interactive_output(intensification_factor, {'F_a': F_a, 'F_b': F_b, 'b': b})\n",
    "\n",
    "display(ui, out)"
   ]
  },
  {
   "cell_type": "code",
   "execution_count": null,
   "metadata": {},
   "outputs": [],
   "source": []
  }
 ],
 "metadata": {
  "kernelspec": {
   "display_name": "Python 3",
   "language": "python",
   "name": "python3"
  },
  "language_info": {
   "codemirror_mode": {
    "name": "ipython",
    "version": 3
   },
   "file_extension": ".py",
   "mimetype": "text/x-python",
   "name": "python",
   "nbconvert_exporter": "python",
   "pygments_lexer": "ipython3",
   "version": "3.8.5"
  }
 },
 "nbformat": 4,
 "nbformat_minor": 4
}
