{
 "cells": [
  {
   "cell_type": "code",
   "execution_count": 2,
   "metadata": {
    "tags": [
     "remove_cell"
    ]
   },
   "outputs": [
    {
     "data": {
      "application/vnd.jupyter.widget-view+json": {
       "model_id": "942691b2d74f4200aacb552c07c23db9",
       "version_major": 2,
       "version_minor": 0
      },
      "text/plain": [
       "VBox(children=(Text(value='1.7, 2.1, 3', description='\\\\(F_a\\\\)'), Text(value='1.2, 1,4, 2.7', description='\\\\…"
      ]
     },
     "metadata": {},
     "output_type": "display_data"
    },
    {
     "data": {
      "application/vnd.jupyter.widget-view+json": {
       "model_id": "4c0b0ff2689f4158aea13752975daa8e",
       "version_major": 2,
       "version_minor": 0
      },
      "text/plain": [
       "Output()"
      ]
     },
     "metadata": {},
     "output_type": "display_data"
    }
   ],
   "source": [
    "{\n",
    "    \"tags\": [\n",
    "        \"remove-input\",\n",
    "    ]\n",
    "}\n",
    "\n",
    "from __future__ import print_function\n",
    "from ipywidgets import interact, interactive, fixed, interact_manual\n",
    "import ipywidgets as widgets\n",
    "from IPython.display import display, Math\n",
    "\n",
    "F_a = widgets.Text('1.7, 2.1, 3', description=r'\\(F_a\\)')\n",
    "F_b = widgets.Text('1.2, 1,4, 2.7', description=r'\\(F_b\\)')\n",
    "b = widgets.Text('1, 1, 1', description=r'\\(b\\)')\n",
    "ui = widgets.VBox([F_a, F_b, b])\n",
    "\n",
    "def intensification_factor(F_a, F_b, b):\n",
    "    \n",
    "    try:\n",
    "    \n",
    "        F_a = [float(i) for i in F_a.split(',')]\n",
    "        F_b = [float(i) for i in F_b.split(',')]\n",
    "        b = [float(i) for i in b.split(',')]\n",
    "    \n",
    "        IF = 1\n",
    "\n",
    "        for i in range(len(F_a)):\n",
    "\n",
    "            IF = IF*((F_a[i]/F_b[i])**b[i])\n",
    "\n",
    "        #display(Math(r'IF = '+ str(round(IF,4))))\n",
    "        print('IF = ', IF)\n",
    "    \n",
    "    except:\n",
    "        \n",
    "        print('IF = -')\n",
    "\n",
    "\n",
    "out = widgets.interactive_output(intensification_factor, {'F_a': F_a, 'F_b': F_b, 'b': b})\n",
    "\n",
    "display(ui, out)"
   ]
  }
 ],
 "metadata": {
  "celltoolbar": "Tags",
  "kernelspec": {
   "display_name": "Python 3",
   "language": "python",
   "name": "python3"
  },
  "language_info": {
   "codemirror_mode": {
    "name": "ipython",
    "version": 3
   },
   "file_extension": ".py",
   "mimetype": "text/x-python",
   "name": "python",
   "nbconvert_exporter": "python",
   "pygments_lexer": "ipython3",
   "version": "3.8.5"
  },
  "widgets": {
   "application/vnd.jupyter.widget-state+json": {
    "state": {
     "0104afdaf836428b967ccf620849a787": {
      "model_module": "@jupyter-widgets/base",
      "model_module_version": "1.2.0",
      "model_name": "LayoutModel",
      "state": {}
     },
     "03943428533b4fe18a7eb44897ee20d2": {
      "model_module": "@jupyter-widgets/controls",
      "model_module_version": "1.5.0",
      "model_name": "TextModel",
      "state": {
       "description": "\\(F_a\\)",
       "layout": "IPY_MODEL_94c02d223059424592f43699bf79c6d7",
       "style": "IPY_MODEL_902e41d9eb0b49b18daecd3ad94513b0",
       "value": "1.7, 2.1, 3"
      }
     },
     "0a2712c04b994c97890a0eef54aefa82": {
      "model_module": "@jupyter-widgets/controls",
      "model_module_version": "1.5.0",
      "model_name": "TextModel",
      "state": {
       "description": "\\(F_a\\)",
       "layout": "IPY_MODEL_f37d41f9127645f8800a8bea567bd48e",
       "style": "IPY_MODEL_74a0e600d49c468a9500fd145264c58d",
       "value": "1.7, 2.1, 3"
      }
     },
     "0b43b2c2537441c6b0f44a45543ecbd6": {
      "model_module": "@jupyter-widgets/controls",
      "model_module_version": "1.5.0",
      "model_name": "DescriptionStyleModel",
      "state": {
       "description_width": ""
      }
     },
     "0f846a926e244dcc9e15dd0acab22b8f": {
      "model_module": "@jupyter-widgets/controls",
      "model_module_version": "1.5.0",
      "model_name": "TextModel",
      "state": {
       "description": "\\(F_b\\)",
       "layout": "IPY_MODEL_c847e18f9d61477aad2d643c650514dd",
       "style": "IPY_MODEL_d3dcfe35369142098d287df06e736041",
       "value": "1.2, 1,4, 2.7"
      }
     },
     "1108381652a54d1f9614ab5e2a725514": {
      "model_module": "@jupyter-widgets/base",
      "model_module_version": "1.2.0",
      "model_name": "LayoutModel",
      "state": {}
     },
     "138eea8995ef48f3833e3de551f79c90": {
      "model_module": "@jupyter-widgets/base",
      "model_module_version": "1.2.0",
      "model_name": "LayoutModel",
      "state": {}
     },
     "1397179db0c3429ea5e43934e3f81e01": {
      "model_module": "@jupyter-widgets/controls",
      "model_module_version": "1.5.0",
      "model_name": "TextModel",
      "state": {
       "description": "\\(F_a\\)",
       "layout": "IPY_MODEL_2ed44f0daab944b0a2bb946f9c8b1e9f",
       "style": "IPY_MODEL_248c6c3fe26d4f1095c171d97857c12e",
       "value": "1.7, 2.1, 3"
      }
     },
     "154f7d568a0c41cabb89304fa1f07109": {
      "model_module": "@jupyter-widgets/controls",
      "model_module_version": "1.5.0",
      "model_name": "TextModel",
      "state": {
       "description": "\\(b\\)",
       "layout": "IPY_MODEL_f6a6a6a82aa243f083957004cb8ebbc2",
       "style": "IPY_MODEL_868814a1212c47d6b390c924ec72a126",
       "value": "1, 1, 1"
      }
     },
     "17f5ac34c923460b9267fde759f118f3": {
      "model_module": "@jupyter-widgets/controls",
      "model_module_version": "1.5.0",
      "model_name": "TextModel",
      "state": {
       "description": "\\(b\\)",
       "layout": "IPY_MODEL_f6cea258968a4ebf9e7d6735129b6db9",
       "style": "IPY_MODEL_7dce2095b4754c90a8ffa240089b9276",
       "value": "1, 1, 1"
      }
     },
     "1942cd079d9040c0a98ad136471e91af": {
      "model_module": "@jupyter-widgets/base",
      "model_module_version": "1.2.0",
      "model_name": "LayoutModel",
      "state": {}
     },
     "1af3ac74d4a248248df45c3f831949fc": {
      "model_module": "@jupyter-widgets/controls",
      "model_module_version": "1.5.0",
      "model_name": "TextModel",
      "state": {
       "description": "\\(F_b\\)",
       "layout": "IPY_MODEL_ae5f11bb3a98454b9c08941e67ab4256",
       "style": "IPY_MODEL_35cffc34651b4868892503887170b3e0",
       "value": "1.2, 1,4, 2.7"
      }
     },
     "1e89ff517b444029b463737788ea0681": {
      "model_module": "@jupyter-widgets/base",
      "model_module_version": "1.2.0",
      "model_name": "LayoutModel",
      "state": {}
     },
     "204be1cde9b14531aeb64ba347c43616": {
      "model_module": "@jupyter-widgets/controls",
      "model_module_version": "1.5.0",
      "model_name": "VBoxModel",
      "state": {
       "children": [
        "IPY_MODEL_e8a7cfdaa74646beb72044498b592524",
        "IPY_MODEL_bfece9b7a2c54e158587f194f42f687c",
        "IPY_MODEL_4997deec30604c27a67def50dfbdc756"
       ],
       "layout": "IPY_MODEL_60d79015e57c4ea89e83d0408333579c"
      }
     },
     "20fa413bd48641378ff88fe82c5daaa4": {
      "model_module": "@jupyter-widgets/base",
      "model_module_version": "1.2.0",
      "model_name": "LayoutModel",
      "state": {}
     },
     "225355eda3bf46878bfd6bad96563b04": {
      "model_module": "@jupyter-widgets/controls",
      "model_module_version": "1.5.0",
      "model_name": "TextModel",
      "state": {
       "description": "\\(F_a\\)",
       "layout": "IPY_MODEL_5de54ef58f8848b1ac5cf72bde9f91f0",
       "style": "IPY_MODEL_dfe9bf62f51d41119fba53a3d3dc929d",
       "value": "1.7, 2.1, 3"
      }
     },
     "248c6c3fe26d4f1095c171d97857c12e": {
      "model_module": "@jupyter-widgets/controls",
      "model_module_version": "1.5.0",
      "model_name": "DescriptionStyleModel",
      "state": {
       "description_width": ""
      }
     },
     "282caa360a73440293fe102a8f2e7470": {
      "model_module": "@jupyter-widgets/controls",
      "model_module_version": "1.5.0",
      "model_name": "VBoxModel",
      "state": {
       "children": [
        "IPY_MODEL_6ed65f7749d440e9bab82a867abc7cf7",
        "IPY_MODEL_9ec9ab2e9542446d91cabcd206997cba",
        "IPY_MODEL_154f7d568a0c41cabb89304fa1f07109"
       ],
       "layout": "IPY_MODEL_bca298f18dff4902ba3b3fbab508e9d6"
      }
     },
     "290b9b21b39e4f94addd50e92a6bb465": {
      "model_module": "@jupyter-widgets/base",
      "model_module_version": "1.2.0",
      "model_name": "LayoutModel",
      "state": {}
     },
     "29be09c771a74df3b7e89c3f1e5389ec": {
      "model_module": "@jupyter-widgets/controls",
      "model_module_version": "1.5.0",
      "model_name": "DescriptionStyleModel",
      "state": {
       "description_width": ""
      }
     },
     "2b301ad18e9b4d0f89fa66fbd379d90c": {
      "model_module": "@jupyter-widgets/base",
      "model_module_version": "1.2.0",
      "model_name": "LayoutModel",
      "state": {}
     },
     "2ccc8858b8cf445f8082eded03cea356": {
      "model_module": "@jupyter-widgets/base",
      "model_module_version": "1.2.0",
      "model_name": "LayoutModel",
      "state": {}
     },
     "2e0cc68d8c7942f7953fc37e68895e16": {
      "model_module": "@jupyter-widgets/base",
      "model_module_version": "1.2.0",
      "model_name": "LayoutModel",
      "state": {}
     },
     "2ed44f0daab944b0a2bb946f9c8b1e9f": {
      "model_module": "@jupyter-widgets/base",
      "model_module_version": "1.2.0",
      "model_name": "LayoutModel",
      "state": {}
     },
     "2f8a6f53ad954f2ebe3685bdfc94d9c7": {
      "model_module": "@jupyter-widgets/base",
      "model_module_version": "1.2.0",
      "model_name": "LayoutModel",
      "state": {}
     },
     "2f9ea869af95478ab55454aabdc6f52d": {
      "model_module": "@jupyter-widgets/controls",
      "model_module_version": "1.5.0",
      "model_name": "DescriptionStyleModel",
      "state": {
       "description_width": ""
      }
     },
     "344a31a3405143fd8db23c489a0ce9a7": {
      "model_module": "@jupyter-widgets/controls",
      "model_module_version": "1.5.0",
      "model_name": "TextModel",
      "state": {
       "description": "\\(F_b\\)",
       "layout": "IPY_MODEL_3b9aea2d1bab4a20a903267e30594328",
       "style": "IPY_MODEL_c5becde1ca574e6f8ba552d50a390b73",
       "value": "1.2, 1,4, 2.7"
      }
     },
     "35cffc34651b4868892503887170b3e0": {
      "model_module": "@jupyter-widgets/controls",
      "model_module_version": "1.5.0",
      "model_name": "DescriptionStyleModel",
      "state": {
       "description_width": ""
      }
     },
     "3a8ae7b933754fe9a32453ad8bb18cab": {
      "model_module": "@jupyter-widgets/output",
      "model_module_version": "1.0.0",
      "model_name": "OutputModel",
      "state": {
       "layout": "IPY_MODEL_d59cb428284b439b9d407ce13ef7b15b",
       "outputs": [
        {
         "name": "stdout",
         "output_type": "stream",
         "text": "IF =  2.23125\n"
        }
       ]
      }
     },
     "3b91a746e4e84dcaaad8d2bdf36fb6f3": {
      "model_module": "@jupyter-widgets/base",
      "model_module_version": "1.2.0",
      "model_name": "LayoutModel",
      "state": {}
     },
     "3b9aea2d1bab4a20a903267e30594328": {
      "model_module": "@jupyter-widgets/base",
      "model_module_version": "1.2.0",
      "model_name": "LayoutModel",
      "state": {}
     },
     "3dbeac0b0b8d48298d7008fbdbd3fb61": {
      "model_module": "@jupyter-widgets/base",
      "model_module_version": "1.2.0",
      "model_name": "LayoutModel",
      "state": {}
     },
     "3e0c0fadf2f448c38fd7d5b348afe369": {
      "model_module": "@jupyter-widgets/base",
      "model_module_version": "1.2.0",
      "model_name": "LayoutModel",
      "state": {}
     },
     "4756abaf854a4f0fa2b64ee932b135d4": {
      "model_module": "@jupyter-widgets/base",
      "model_module_version": "1.2.0",
      "model_name": "LayoutModel",
      "state": {}
     },
     "47c4ad2c53224a8f8b77502511ba0637": {
      "model_module": "@jupyter-widgets/base",
      "model_module_version": "1.2.0",
      "model_name": "LayoutModel",
      "state": {}
     },
     "48eabb62ee3b4b869648d1f8df096f1c": {
      "model_module": "@jupyter-widgets/controls",
      "model_module_version": "1.5.0",
      "model_name": "DescriptionStyleModel",
      "state": {
       "description_width": ""
      }
     },
     "49026aa04a464c66bbf8ac7ca454bd0e": {
      "model_module": "@jupyter-widgets/controls",
      "model_module_version": "1.5.0",
      "model_name": "TextModel",
      "state": {
       "description": "\\(F_b\\)",
       "layout": "IPY_MODEL_76f776e306544367920a022e6e5b2a7c",
       "style": "IPY_MODEL_9c3a77e1d44e4970afb7594614d3fa96",
       "value": "1.2, 1,4, 2.7"
      }
     },
     "4997deec30604c27a67def50dfbdc756": {
      "model_module": "@jupyter-widgets/controls",
      "model_module_version": "1.5.0",
      "model_name": "TextModel",
      "state": {
       "description": "\\(b\\)",
       "layout": "IPY_MODEL_138eea8995ef48f3833e3de551f79c90",
       "style": "IPY_MODEL_b25327de06b942109eea01edad767fc4",
       "value": "1, 1, 1"
      }
     },
     "4b9eb50752f84b4491e9b8f65ed12b6b": {
      "model_module": "@jupyter-widgets/controls",
      "model_module_version": "1.5.0",
      "model_name": "VBoxModel",
      "state": {
       "children": [
        "IPY_MODEL_03943428533b4fe18a7eb44897ee20d2",
        "IPY_MODEL_0f846a926e244dcc9e15dd0acab22b8f",
        "IPY_MODEL_710fc4257ed44fc2bf850ae3b903a18c"
       ],
       "layout": "IPY_MODEL_2ccc8858b8cf445f8082eded03cea356"
      }
     },
     "4c0b0ff2689f4158aea13752975daa8e": {
      "model_module": "@jupyter-widgets/output",
      "model_module_version": "1.0.0",
      "model_name": "OutputModel",
      "state": {
       "layout": "IPY_MODEL_a94b6ae17a0b477fb79e72e90d8ca3b2",
       "outputs": [
        {
         "name": "stdout",
         "output_type": "stream",
         "text": "IF =  2.23125\n"
        }
       ]
      }
     },
     "4d2f44ea9ff74f0b91c300f969521e7a": {
      "model_module": "@jupyter-widgets/output",
      "model_module_version": "1.0.0",
      "model_name": "OutputModel",
      "state": {
       "layout": "IPY_MODEL_c6dcdd482d484132baf6c65cc40c1cd1",
       "outputs": [
        {
         "name": "stdout",
         "output_type": "stream",
         "text": "IF =  2.23125\n"
        }
       ]
      }
     },
     "4ec9fa2284454635a289bc9bf70e3834": {
      "model_module": "@jupyter-widgets/controls",
      "model_module_version": "1.5.0",
      "model_name": "TextModel",
      "state": {
       "description": "\\(F_b\\)",
       "layout": "IPY_MODEL_a198182e6f8941a4aad2698a9d7c44eb",
       "style": "IPY_MODEL_9a13be0134144f21b8b978ecd7f9f877",
       "value": "1.2, 1,4, 2.7"
      }
     },
     "504b26736dc24e529dc3d22376e6b704": {
      "model_module": "@jupyter-widgets/output",
      "model_module_version": "1.0.0",
      "model_name": "OutputModel",
      "state": {
       "layout": "IPY_MODEL_f06893985fa247ca8fca51ec83571dbf",
       "outputs": [
        {
         "name": "stdout",
         "output_type": "stream",
         "text": "IF =  2.23125\n"
        }
       ]
      }
     },
     "5602f34389f64f1997d910101a3774cb": {
      "model_module": "@jupyter-widgets/controls",
      "model_module_version": "1.5.0",
      "model_name": "DescriptionStyleModel",
      "state": {
       "description_width": ""
      }
     },
     "5787ba4c9bc04487bdf26afe89c92d23": {
      "model_module": "@jupyter-widgets/controls",
      "model_module_version": "1.5.0",
      "model_name": "TextModel",
      "state": {
       "description": "\\(b\\)",
       "layout": "IPY_MODEL_febee115f0cc430e9abdc6005b626e40",
       "style": "IPY_MODEL_663a623100b34f5d9278930a3dca4e57",
       "value": "1, 1, 1"
      }
     },
     "57d346ab2f2b451984839283cafc3c1d": {
      "model_module": "@jupyter-widgets/base",
      "model_module_version": "1.2.0",
      "model_name": "LayoutModel",
      "state": {}
     },
     "5ad3ca48466e453485576cddff5045d5": {
      "model_module": "@jupyter-widgets/base",
      "model_module_version": "1.2.0",
      "model_name": "LayoutModel",
      "state": {}
     },
     "5c4504041ed9464a8f2879e627a25466": {
      "model_module": "@jupyter-widgets/controls",
      "model_module_version": "1.5.0",
      "model_name": "TextModel",
      "state": {
       "description": "\\(b\\)",
       "layout": "IPY_MODEL_c47807f472934e7496d1e8b349439659",
       "style": "IPY_MODEL_6085d336d73d453988d1b7bef09accba",
       "value": "1, 1, 1"
      }
     },
     "5de54ef58f8848b1ac5cf72bde9f91f0": {
      "model_module": "@jupyter-widgets/base",
      "model_module_version": "1.2.0",
      "model_name": "LayoutModel",
      "state": {}
     },
     "6085d336d73d453988d1b7bef09accba": {
      "model_module": "@jupyter-widgets/controls",
      "model_module_version": "1.5.0",
      "model_name": "DescriptionStyleModel",
      "state": {
       "description_width": ""
      }
     },
     "60d79015e57c4ea89e83d0408333579c": {
      "model_module": "@jupyter-widgets/base",
      "model_module_version": "1.2.0",
      "model_name": "LayoutModel",
      "state": {}
     },
     "663a623100b34f5d9278930a3dca4e57": {
      "model_module": "@jupyter-widgets/controls",
      "model_module_version": "1.5.0",
      "model_name": "DescriptionStyleModel",
      "state": {
       "description_width": ""
      }
     },
     "684534fe78cc4782b8c6adb1c18c8aa8": {
      "model_module": "@jupyter-widgets/output",
      "model_module_version": "1.0.0",
      "model_name": "OutputModel",
      "state": {
       "layout": "IPY_MODEL_2e0cc68d8c7942f7953fc37e68895e16",
       "outputs": [
        {
         "name": "stdout",
         "output_type": "stream",
         "text": "IF =  2.23125\n"
        }
       ]
      }
     },
     "68f0741b83dd4cd6ac1f68ffd5b74e27": {
      "model_module": "@jupyter-widgets/base",
      "model_module_version": "1.2.0",
      "model_name": "LayoutModel",
      "state": {}
     },
     "6ed65f7749d440e9bab82a867abc7cf7": {
      "model_module": "@jupyter-widgets/controls",
      "model_module_version": "1.5.0",
      "model_name": "TextModel",
      "state": {
       "description": "\\(F_a\\)",
       "layout": "IPY_MODEL_a35c7faf1c884045bc995ab62bec7865",
       "style": "IPY_MODEL_d6fb7b98e41d4ec4859bf6aed487540d",
       "value": "1.7, 2.1, 3"
      }
     },
     "6f2913f4e9ea4cbc83d330dc75e16cc8": {
      "model_module": "@jupyter-widgets/controls",
      "model_module_version": "1.5.0",
      "model_name": "DescriptionStyleModel",
      "state": {
       "description_width": ""
      }
     },
     "702debb601614783a4f187b14b30a174": {
      "model_module": "@jupyter-widgets/base",
      "model_module_version": "1.2.0",
      "model_name": "LayoutModel",
      "state": {}
     },
     "710fc4257ed44fc2bf850ae3b903a18c": {
      "model_module": "@jupyter-widgets/controls",
      "model_module_version": "1.5.0",
      "model_name": "TextModel",
      "state": {
       "description": "\\(b\\)",
       "layout": "IPY_MODEL_2f8a6f53ad954f2ebe3685bdfc94d9c7",
       "style": "IPY_MODEL_e0c2839790b54b4aa865dcf0323eccb8",
       "value": "1, 1, 1"
      }
     },
     "72bfa03a00694066abbb0c886bbd4557": {
      "model_module": "@jupyter-widgets/controls",
      "model_module_version": "1.5.0",
      "model_name": "TextModel",
      "state": {
       "description": "\\(F_a\\)",
       "layout": "IPY_MODEL_1942cd079d9040c0a98ad136471e91af",
       "style": "IPY_MODEL_97cf9d5e229d458aa4c146c9bee40405",
       "value": "1.7, 2.1, 3"
      }
     },
     "73e7cf72f81c4f059b95456769c26482": {
      "model_module": "@jupyter-widgets/controls",
      "model_module_version": "1.5.0",
      "model_name": "TextModel",
      "state": {
       "description": "\\(F_a\\)",
       "layout": "IPY_MODEL_fe467a1bf03b4b7d9892eff250436961",
       "style": "IPY_MODEL_d925ac2d909d4619bc1fe1feeafdeb76",
       "value": "1.7, 2.1, 3"
      }
     },
     "74a0e600d49c468a9500fd145264c58d": {
      "model_module": "@jupyter-widgets/controls",
      "model_module_version": "1.5.0",
      "model_name": "DescriptionStyleModel",
      "state": {
       "description_width": ""
      }
     },
     "76f776e306544367920a022e6e5b2a7c": {
      "model_module": "@jupyter-widgets/base",
      "model_module_version": "1.2.0",
      "model_name": "LayoutModel",
      "state": {}
     },
     "7a86a1cf7a5648da9adbbb2f7099fc41": {
      "model_module": "@jupyter-widgets/controls",
      "model_module_version": "1.5.0",
      "model_name": "TextModel",
      "state": {
       "description": "\\(F_b\\)",
       "layout": "IPY_MODEL_cacc9ff3e8054bf7a5b6484177e0a719",
       "style": "IPY_MODEL_29be09c771a74df3b7e89c3f1e5389ec",
       "value": "1.2, 1,4, 2.7"
      }
     },
     "7db4e39f007449f3923a39aec10489eb": {
      "model_module": "@jupyter-widgets/controls",
      "model_module_version": "1.5.0",
      "model_name": "VBoxModel",
      "state": {
       "children": [
        "IPY_MODEL_1397179db0c3429ea5e43934e3f81e01",
        "IPY_MODEL_7a86a1cf7a5648da9adbbb2f7099fc41",
        "IPY_MODEL_864c19451f6a40cda659c358568745d4"
       ],
       "layout": "IPY_MODEL_8a228d72da42425bb973024de05d723e"
      }
     },
     "7dce2095b4754c90a8ffa240089b9276": {
      "model_module": "@jupyter-widgets/controls",
      "model_module_version": "1.5.0",
      "model_name": "DescriptionStyleModel",
      "state": {
       "description_width": ""
      }
     },
     "7e5b88549cc24382a52ee9c77279acd9": {
      "model_module": "@jupyter-widgets/base",
      "model_module_version": "1.2.0",
      "model_name": "LayoutModel",
      "state": {}
     },
     "7f626d2e7fe94edca3a773e63e1c999e": {
      "model_module": "@jupyter-widgets/controls",
      "model_module_version": "1.5.0",
      "model_name": "VBoxModel",
      "state": {
       "children": [
        "IPY_MODEL_b1a96c47eaad400586bb815272593c71",
        "IPY_MODEL_fa615dcdd4094cddb5134567a6e30235",
        "IPY_MODEL_84650d0247934401af828e050ad82af6"
       ],
       "layout": "IPY_MODEL_b003676293434223a798a5ed424cf2c8"
      }
     },
     "7f630acb0f8344cb83c6b91c5e0233c9": {
      "model_module": "@jupyter-widgets/base",
      "model_module_version": "1.2.0",
      "model_name": "LayoutModel",
      "state": {}
     },
     "827c53bdf6cf4768884b221718dc5076": {
      "model_module": "@jupyter-widgets/controls",
      "model_module_version": "1.5.0",
      "model_name": "DescriptionStyleModel",
      "state": {
       "description_width": ""
      }
     },
     "831ee20521d946eeac84bc6c0f310799": {
      "model_module": "@jupyter-widgets/controls",
      "model_module_version": "1.5.0",
      "model_name": "VBoxModel",
      "state": {
       "children": [
        "IPY_MODEL_73e7cf72f81c4f059b95456769c26482",
        "IPY_MODEL_9b9c35ff2a864a3fba3038f4c3ee581c",
        "IPY_MODEL_5c4504041ed9464a8f2879e627a25466"
       ],
       "layout": "IPY_MODEL_1108381652a54d1f9614ab5e2a725514"
      }
     },
     "84650d0247934401af828e050ad82af6": {
      "model_module": "@jupyter-widgets/controls",
      "model_module_version": "1.5.0",
      "model_name": "TextModel",
      "state": {
       "description": "\\(b\\)",
       "layout": "IPY_MODEL_eb67c2a056b84ae98ba759ddbb36c3a0",
       "style": "IPY_MODEL_2f9ea869af95478ab55454aabdc6f52d",
       "value": "1, 1, 1"
      }
     },
     "85a35d1462074d4b8f3aaaf954d44a47": {
      "model_module": "@jupyter-widgets/controls",
      "model_module_version": "1.5.0",
      "model_name": "DescriptionStyleModel",
      "state": {
       "description_width": ""
      }
     },
     "864c19451f6a40cda659c358568745d4": {
      "model_module": "@jupyter-widgets/controls",
      "model_module_version": "1.5.0",
      "model_name": "TextModel",
      "state": {
       "description": "\\(b\\)",
       "layout": "IPY_MODEL_7f630acb0f8344cb83c6b91c5e0233c9",
       "style": "IPY_MODEL_f95f32cbdc9c424d869f073575e8e18c",
       "value": "1, 1, 1"
      }
     },
     "868814a1212c47d6b390c924ec72a126": {
      "model_module": "@jupyter-widgets/controls",
      "model_module_version": "1.5.0",
      "model_name": "DescriptionStyleModel",
      "state": {
       "description_width": ""
      }
     },
     "8a228d72da42425bb973024de05d723e": {
      "model_module": "@jupyter-widgets/base",
      "model_module_version": "1.2.0",
      "model_name": "LayoutModel",
      "state": {}
     },
     "8c27e45a19de49a98edc1baf51fd3de7": {
      "model_module": "@jupyter-widgets/output",
      "model_module_version": "1.0.0",
      "model_name": "OutputModel",
      "state": {
       "layout": "IPY_MODEL_2b301ad18e9b4d0f89fa66fbd379d90c",
       "outputs": [
        {
         "name": "stdout",
         "output_type": "stream",
         "text": "IF =  2.23125\n"
        }
       ]
      }
     },
     "8d539053b4cb4bd580007c99caf96e35": {
      "model_module": "@jupyter-widgets/controls",
      "model_module_version": "1.5.0",
      "model_name": "TextModel",
      "state": {
       "description": "\\(b\\)",
       "layout": "IPY_MODEL_5ad3ca48466e453485576cddff5045d5",
       "style": "IPY_MODEL_91662246e42049ac973ca1db391ea720",
       "value": "1, 1, 1"
      }
     },
     "902e41d9eb0b49b18daecd3ad94513b0": {
      "model_module": "@jupyter-widgets/controls",
      "model_module_version": "1.5.0",
      "model_name": "DescriptionStyleModel",
      "state": {
       "description_width": ""
      }
     },
     "905447a7ddb94c03a12e5627b042a9b6": {
      "model_module": "@jupyter-widgets/base",
      "model_module_version": "1.2.0",
      "model_name": "LayoutModel",
      "state": {}
     },
     "90beb9e1dfb7473fa66b2bf9d02e656d": {
      "model_module": "@jupyter-widgets/controls",
      "model_module_version": "1.5.0",
      "model_name": "TextModel",
      "state": {
       "description": "\\(F_a\\)",
       "layout": "IPY_MODEL_c0f1dc14350a4e21b95c51885a27c3e6",
       "style": "IPY_MODEL_b50f2e2fcb0c46d69a592f163d041cbe",
       "value": "1.7, 2.1, 3"
      }
     },
     "91662246e42049ac973ca1db391ea720": {
      "model_module": "@jupyter-widgets/controls",
      "model_module_version": "1.5.0",
      "model_name": "DescriptionStyleModel",
      "state": {
       "description_width": ""
      }
     },
     "93bfaaa2940342ada8743201e1559880": {
      "model_module": "@jupyter-widgets/controls",
      "model_module_version": "1.5.0",
      "model_name": "TextModel",
      "state": {
       "description": "\\(b\\)",
       "layout": "IPY_MODEL_3dbeac0b0b8d48298d7008fbdbd3fb61",
       "style": "IPY_MODEL_0b43b2c2537441c6b0f44a45543ecbd6",
       "value": "1, 1, 1"
      }
     },
     "942691b2d74f4200aacb552c07c23db9": {
      "model_module": "@jupyter-widgets/controls",
      "model_module_version": "1.5.0",
      "model_name": "VBoxModel",
      "state": {
       "children": [
        "IPY_MODEL_90beb9e1dfb7473fa66b2bf9d02e656d",
        "IPY_MODEL_4ec9fa2284454635a289bc9bf70e3834",
        "IPY_MODEL_8d539053b4cb4bd580007c99caf96e35"
       ],
       "layout": "IPY_MODEL_4756abaf854a4f0fa2b64ee932b135d4"
      }
     },
     "94c02d223059424592f43699bf79c6d7": {
      "model_module": "@jupyter-widgets/base",
      "model_module_version": "1.2.0",
      "model_name": "LayoutModel",
      "state": {}
     },
     "94dd91fd43d64f2a9e3e3c382c2eb7cf": {
      "model_module": "@jupyter-widgets/base",
      "model_module_version": "1.2.0",
      "model_name": "LayoutModel",
      "state": {}
     },
     "97cf9d5e229d458aa4c146c9bee40405": {
      "model_module": "@jupyter-widgets/controls",
      "model_module_version": "1.5.0",
      "model_name": "DescriptionStyleModel",
      "state": {
       "description_width": ""
      }
     },
     "9915d0596b924ae1903cbe3a51aa7e62": {
      "model_module": "@jupyter-widgets/output",
      "model_module_version": "1.0.0",
      "model_name": "OutputModel",
      "state": {
       "layout": "IPY_MODEL_905447a7ddb94c03a12e5627b042a9b6",
       "outputs": [
        {
         "name": "stdout",
         "output_type": "stream",
         "text": "IF =  2.23125\n"
        }
       ]
      }
     },
     "9a13be0134144f21b8b978ecd7f9f877": {
      "model_module": "@jupyter-widgets/controls",
      "model_module_version": "1.5.0",
      "model_name": "DescriptionStyleModel",
      "state": {
       "description_width": ""
      }
     },
     "9b38d62012be43259144007a5b7628aa": {
      "model_module": "@jupyter-widgets/controls",
      "model_module_version": "1.5.0",
      "model_name": "TextModel",
      "state": {
       "description": "\\(F_b\\)",
       "layout": "IPY_MODEL_9b5770cbf5a74f4daeebff7b9732bf87",
       "style": "IPY_MODEL_c3fbfb589c8746a6b6d985d8a42f7bc8",
       "value": "1.2, 1,4, 2.7"
      }
     },
     "9b5770cbf5a74f4daeebff7b9732bf87": {
      "model_module": "@jupyter-widgets/base",
      "model_module_version": "1.2.0",
      "model_name": "LayoutModel",
      "state": {}
     },
     "9b9c35ff2a864a3fba3038f4c3ee581c": {
      "model_module": "@jupyter-widgets/controls",
      "model_module_version": "1.5.0",
      "model_name": "TextModel",
      "state": {
       "description": "\\(F_b\\)",
       "layout": "IPY_MODEL_e28366bcee514710b24102566d91455f",
       "style": "IPY_MODEL_6f2913f4e9ea4cbc83d330dc75e16cc8",
       "value": "1.2, 1,4, 2.7"
      }
     },
     "9bbfd39ab22d43a8bd9be95c2206e333": {
      "model_module": "@jupyter-widgets/base",
      "model_module_version": "1.2.0",
      "model_name": "LayoutModel",
      "state": {}
     },
     "9c3a77e1d44e4970afb7594614d3fa96": {
      "model_module": "@jupyter-widgets/controls",
      "model_module_version": "1.5.0",
      "model_name": "DescriptionStyleModel",
      "state": {
       "description_width": ""
      }
     },
     "9ec9ab2e9542446d91cabcd206997cba": {
      "model_module": "@jupyter-widgets/controls",
      "model_module_version": "1.5.0",
      "model_name": "TextModel",
      "state": {
       "description": "\\(F_b\\)",
       "layout": "IPY_MODEL_702debb601614783a4f187b14b30a174",
       "style": "IPY_MODEL_a300d1493d2a4cfd8f795bb6c15111b5",
       "value": "1.2, 1,4, 2.7"
      }
     },
     "9fa291a80d90445c94c14f24c501a470": {
      "model_module": "@jupyter-widgets/output",
      "model_module_version": "1.0.0",
      "model_name": "OutputModel",
      "state": {
       "layout": "IPY_MODEL_20fa413bd48641378ff88fe82c5daaa4",
       "outputs": [
        {
         "name": "stdout",
         "output_type": "stream",
         "text": "IF =  2.23125\n"
        }
       ]
      }
     },
     "a198182e6f8941a4aad2698a9d7c44eb": {
      "model_module": "@jupyter-widgets/base",
      "model_module_version": "1.2.0",
      "model_name": "LayoutModel",
      "state": {}
     },
     "a300d1493d2a4cfd8f795bb6c15111b5": {
      "model_module": "@jupyter-widgets/controls",
      "model_module_version": "1.5.0",
      "model_name": "DescriptionStyleModel",
      "state": {
       "description_width": ""
      }
     },
     "a35c7faf1c884045bc995ab62bec7865": {
      "model_module": "@jupyter-widgets/base",
      "model_module_version": "1.2.0",
      "model_name": "LayoutModel",
      "state": {}
     },
     "a94b6ae17a0b477fb79e72e90d8ca3b2": {
      "model_module": "@jupyter-widgets/base",
      "model_module_version": "1.2.0",
      "model_name": "LayoutModel",
      "state": {}
     },
     "acece53fe8764affb97a0d225d2529bc": {
      "model_module": "@jupyter-widgets/controls",
      "model_module_version": "1.5.0",
      "model_name": "VBoxModel",
      "state": {
       "children": [
        "IPY_MODEL_0a2712c04b994c97890a0eef54aefa82",
        "IPY_MODEL_344a31a3405143fd8db23c489a0ce9a7",
        "IPY_MODEL_93bfaaa2940342ada8743201e1559880"
       ],
       "layout": "IPY_MODEL_3e0c0fadf2f448c38fd7d5b348afe369"
      }
     },
     "ae5f11bb3a98454b9c08941e67ab4256": {
      "model_module": "@jupyter-widgets/base",
      "model_module_version": "1.2.0",
      "model_name": "LayoutModel",
      "state": {}
     },
     "af602b32de884863a0b93ead51e4a401": {
      "model_module": "@jupyter-widgets/base",
      "model_module_version": "1.2.0",
      "model_name": "LayoutModel",
      "state": {}
     },
     "b003676293434223a798a5ed424cf2c8": {
      "model_module": "@jupyter-widgets/base",
      "model_module_version": "1.2.0",
      "model_name": "LayoutModel",
      "state": {}
     },
     "b1a96c47eaad400586bb815272593c71": {
      "model_module": "@jupyter-widgets/controls",
      "model_module_version": "1.5.0",
      "model_name": "TextModel",
      "state": {
       "description": "\\(F_a\\)",
       "layout": "IPY_MODEL_af602b32de884863a0b93ead51e4a401",
       "style": "IPY_MODEL_ea9165bd0c374d9eb1177e32a9e7e77f",
       "value": "1.7, 2.1, 3"
      }
     },
     "b25327de06b942109eea01edad767fc4": {
      "model_module": "@jupyter-widgets/controls",
      "model_module_version": "1.5.0",
      "model_name": "DescriptionStyleModel",
      "state": {
       "description_width": ""
      }
     },
     "b32ca921ccc740e7a4d79f1800a03a22": {
      "model_module": "@jupyter-widgets/controls",
      "model_module_version": "1.5.0",
      "model_name": "TextModel",
      "state": {
       "description": "\\(b\\)",
       "layout": "IPY_MODEL_9bbfd39ab22d43a8bd9be95c2206e333",
       "style": "IPY_MODEL_48eabb62ee3b4b869648d1f8df096f1c",
       "value": "1, 1, 1"
      }
     },
     "b50f2e2fcb0c46d69a592f163d041cbe": {
      "model_module": "@jupyter-widgets/controls",
      "model_module_version": "1.5.0",
      "model_name": "DescriptionStyleModel",
      "state": {
       "description_width": ""
      }
     },
     "bca298f18dff4902ba3b3fbab508e9d6": {
      "model_module": "@jupyter-widgets/base",
      "model_module_version": "1.2.0",
      "model_name": "LayoutModel",
      "state": {}
     },
     "bda666987d6b4e7ea35f2720ba02e643": {
      "model_module": "@jupyter-widgets/output",
      "model_module_version": "1.0.0",
      "model_name": "OutputModel",
      "state": {
       "layout": "IPY_MODEL_cce1e6610dc64795af7293cc3d58e34c",
       "outputs": [
        {
         "name": "stdout",
         "output_type": "stream",
         "text": "IF =  2.23125\n"
        }
       ]
      }
     },
     "bfece9b7a2c54e158587f194f42f687c": {
      "model_module": "@jupyter-widgets/controls",
      "model_module_version": "1.5.0",
      "model_name": "TextModel",
      "state": {
       "description": "\\(F_b\\)",
       "layout": "IPY_MODEL_57d346ab2f2b451984839283cafc3c1d",
       "style": "IPY_MODEL_5602f34389f64f1997d910101a3774cb",
       "value": "1.2, 1,4, 2.7"
      }
     },
     "c0f1dc14350a4e21b95c51885a27c3e6": {
      "model_module": "@jupyter-widgets/base",
      "model_module_version": "1.2.0",
      "model_name": "LayoutModel",
      "state": {}
     },
     "c3fbfb589c8746a6b6d985d8a42f7bc8": {
      "model_module": "@jupyter-widgets/controls",
      "model_module_version": "1.5.0",
      "model_name": "DescriptionStyleModel",
      "state": {
       "description_width": ""
      }
     },
     "c47807f472934e7496d1e8b349439659": {
      "model_module": "@jupyter-widgets/base",
      "model_module_version": "1.2.0",
      "model_name": "LayoutModel",
      "state": {}
     },
     "c5becde1ca574e6f8ba552d50a390b73": {
      "model_module": "@jupyter-widgets/controls",
      "model_module_version": "1.5.0",
      "model_name": "DescriptionStyleModel",
      "state": {
       "description_width": ""
      }
     },
     "c692d9d41e334ea8aac8be1ce301e92d": {
      "model_module": "@jupyter-widgets/output",
      "model_module_version": "1.0.0",
      "model_name": "OutputModel",
      "state": {
       "layout": "IPY_MODEL_47c4ad2c53224a8f8b77502511ba0637",
       "outputs": [
        {
         "name": "stdout",
         "output_type": "stream",
         "text": "IF =  2.23125\n"
        }
       ]
      }
     },
     "c6dcdd482d484132baf6c65cc40c1cd1": {
      "model_module": "@jupyter-widgets/base",
      "model_module_version": "1.2.0",
      "model_name": "LayoutModel",
      "state": {}
     },
     "c847e18f9d61477aad2d643c650514dd": {
      "model_module": "@jupyter-widgets/base",
      "model_module_version": "1.2.0",
      "model_name": "LayoutModel",
      "state": {}
     },
     "cacc9ff3e8054bf7a5b6484177e0a719": {
      "model_module": "@jupyter-widgets/base",
      "model_module_version": "1.2.0",
      "model_name": "LayoutModel",
      "state": {}
     },
     "cce1e6610dc64795af7293cc3d58e34c": {
      "model_module": "@jupyter-widgets/base",
      "model_module_version": "1.2.0",
      "model_name": "LayoutModel",
      "state": {}
     },
     "ced49e7ff3904a4cbfca4cbca36420b1": {
      "model_module": "@jupyter-widgets/controls",
      "model_module_version": "1.5.0",
      "model_name": "TextModel",
      "state": {
       "description": "\\(F_a\\)",
       "layout": "IPY_MODEL_3b91a746e4e84dcaaad8d2bdf36fb6f3",
       "style": "IPY_MODEL_827c53bdf6cf4768884b221718dc5076",
       "value": "1.7, 2.1, 3"
      }
     },
     "d3dcfe35369142098d287df06e736041": {
      "model_module": "@jupyter-widgets/controls",
      "model_module_version": "1.5.0",
      "model_name": "DescriptionStyleModel",
      "state": {
       "description_width": ""
      }
     },
     "d4896846d3a14f8b9178592da410be3a": {
      "model_module": "@jupyter-widgets/controls",
      "model_module_version": "1.5.0",
      "model_name": "VBoxModel",
      "state": {
       "children": [
        "IPY_MODEL_72bfa03a00694066abbb0c886bbd4557",
        "IPY_MODEL_9b38d62012be43259144007a5b7628aa",
        "IPY_MODEL_b32ca921ccc740e7a4d79f1800a03a22"
       ],
       "layout": "IPY_MODEL_94dd91fd43d64f2a9e3e3c382c2eb7cf"
      }
     },
     "d59cb428284b439b9d407ce13ef7b15b": {
      "model_module": "@jupyter-widgets/base",
      "model_module_version": "1.2.0",
      "model_name": "LayoutModel",
      "state": {}
     },
     "d6fb7b98e41d4ec4859bf6aed487540d": {
      "model_module": "@jupyter-widgets/controls",
      "model_module_version": "1.5.0",
      "model_name": "DescriptionStyleModel",
      "state": {
       "description_width": ""
      }
     },
     "d925ac2d909d4619bc1fe1feeafdeb76": {
      "model_module": "@jupyter-widgets/controls",
      "model_module_version": "1.5.0",
      "model_name": "DescriptionStyleModel",
      "state": {
       "description_width": ""
      }
     },
     "dfe9bf62f51d41119fba53a3d3dc929d": {
      "model_module": "@jupyter-widgets/controls",
      "model_module_version": "1.5.0",
      "model_name": "DescriptionStyleModel",
      "state": {
       "description_width": ""
      }
     },
     "e0c2839790b54b4aa865dcf0323eccb8": {
      "model_module": "@jupyter-widgets/controls",
      "model_module_version": "1.5.0",
      "model_name": "DescriptionStyleModel",
      "state": {
       "description_width": ""
      }
     },
     "e28366bcee514710b24102566d91455f": {
      "model_module": "@jupyter-widgets/base",
      "model_module_version": "1.2.0",
      "model_name": "LayoutModel",
      "state": {}
     },
     "e8a7cfdaa74646beb72044498b592524": {
      "model_module": "@jupyter-widgets/controls",
      "model_module_version": "1.5.0",
      "model_name": "TextModel",
      "state": {
       "description": "\\(F_a\\)",
       "layout": "IPY_MODEL_290b9b21b39e4f94addd50e92a6bb465",
       "style": "IPY_MODEL_ea83c451589e4bdbbff2bd000cae5fe5",
       "value": "1.7, 2.1, 3"
      }
     },
     "ea83c451589e4bdbbff2bd000cae5fe5": {
      "model_module": "@jupyter-widgets/controls",
      "model_module_version": "1.5.0",
      "model_name": "DescriptionStyleModel",
      "state": {
       "description_width": ""
      }
     },
     "ea9165bd0c374d9eb1177e32a9e7e77f": {
      "model_module": "@jupyter-widgets/controls",
      "model_module_version": "1.5.0",
      "model_name": "DescriptionStyleModel",
      "state": {
       "description_width": ""
      }
     },
     "eb67c2a056b84ae98ba759ddbb36c3a0": {
      "model_module": "@jupyter-widgets/base",
      "model_module_version": "1.2.0",
      "model_name": "LayoutModel",
      "state": {}
     },
     "f06893985fa247ca8fca51ec83571dbf": {
      "model_module": "@jupyter-widgets/base",
      "model_module_version": "1.2.0",
      "model_name": "LayoutModel",
      "state": {}
     },
     "f37d41f9127645f8800a8bea567bd48e": {
      "model_module": "@jupyter-widgets/base",
      "model_module_version": "1.2.0",
      "model_name": "LayoutModel",
      "state": {}
     },
     "f6a6a6a82aa243f083957004cb8ebbc2": {
      "model_module": "@jupyter-widgets/base",
      "model_module_version": "1.2.0",
      "model_name": "LayoutModel",
      "state": {}
     },
     "f6cea258968a4ebf9e7d6735129b6db9": {
      "model_module": "@jupyter-widgets/base",
      "model_module_version": "1.2.0",
      "model_name": "LayoutModel",
      "state": {}
     },
     "f95f32cbdc9c424d869f073575e8e18c": {
      "model_module": "@jupyter-widgets/controls",
      "model_module_version": "1.5.0",
      "model_name": "DescriptionStyleModel",
      "state": {
       "description_width": ""
      }
     },
     "fa615dcdd4094cddb5134567a6e30235": {
      "model_module": "@jupyter-widgets/controls",
      "model_module_version": "1.5.0",
      "model_name": "TextModel",
      "state": {
       "description": "\\(F_b\\)",
       "layout": "IPY_MODEL_0104afdaf836428b967ccf620849a787",
       "style": "IPY_MODEL_85a35d1462074d4b8f3aaaf954d44a47",
       "value": "1.2, 1,4, 2.7"
      }
     },
     "fe467a1bf03b4b7d9892eff250436961": {
      "model_module": "@jupyter-widgets/base",
      "model_module_version": "1.2.0",
      "model_name": "LayoutModel",
      "state": {}
     },
     "fe65229134184fa49d1eee3715ef9b33": {
      "model_module": "@jupyter-widgets/output",
      "model_module_version": "1.0.0",
      "model_name": "OutputModel",
      "state": {
       "layout": "IPY_MODEL_68f0741b83dd4cd6ac1f68ffd5b74e27",
       "outputs": [
        {
         "name": "stdout",
         "output_type": "stream",
         "text": "IF =  2.23125\n"
        }
       ]
      }
     },
     "fe6841b442a14d178be30dc03363beb3": {
      "model_module": "@jupyter-widgets/controls",
      "model_module_version": "1.5.0",
      "model_name": "VBoxModel",
      "state": {
       "children": [
        "IPY_MODEL_225355eda3bf46878bfd6bad96563b04",
        "IPY_MODEL_49026aa04a464c66bbf8ac7ca454bd0e",
        "IPY_MODEL_17f5ac34c923460b9267fde759f118f3"
       ],
       "layout": "IPY_MODEL_7e5b88549cc24382a52ee9c77279acd9"
      }
     },
     "fe7098f005f6484182f10b01b9a829b9": {
      "model_module": "@jupyter-widgets/controls",
      "model_module_version": "1.5.0",
      "model_name": "VBoxModel",
      "state": {
       "children": [
        "IPY_MODEL_ced49e7ff3904a4cbfca4cbca36420b1",
        "IPY_MODEL_1af3ac74d4a248248df45c3f831949fc",
        "IPY_MODEL_5787ba4c9bc04487bdf26afe89c92d23"
       ],
       "layout": "IPY_MODEL_1e89ff517b444029b463737788ea0681"
      }
     },
     "febee115f0cc430e9abdc6005b626e40": {
      "model_module": "@jupyter-widgets/base",
      "model_module_version": "1.2.0",
      "model_name": "LayoutModel",
      "state": {}
     }
    },
    "version_major": 2,
    "version_minor": 0
   }
  }
 },
 "nbformat": 4,
 "nbformat_minor": 4
}
