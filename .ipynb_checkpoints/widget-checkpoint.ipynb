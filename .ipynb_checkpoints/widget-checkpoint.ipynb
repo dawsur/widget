{
 "cells": [
  {
   "cell_type": "code",
   "execution_count": 1,
   "metadata": {},
   "outputs": [
    {
     "data": {
      "application/vnd.jupyter.widget-view+json": {
       "model_id": "204be1cde9b14531aeb64ba347c43616",
       "version_major": 2,
       "version_minor": 0
      },
      "text/plain": [
       "VBox(children=(Text(value='1.7, 2.1, 3', description='\\\\(F_a\\\\)'), Text(value='1.2, 1,4, 2.7', description='\\\\…"
      ]
     },
     "metadata": {},
     "output_type": "display_data"
    },
    {
     "data": {
      "application/vnd.jupyter.widget-view+json": {
       "model_id": "9fa291a80d90445c94c14f24c501a470",
       "version_major": 2,
       "version_minor": 0
      },
      "text/plain": [
       "Output()"
      ]
     },
     "metadata": {},
     "output_type": "display_data"
    }
   ],
   "source": [
    "from __future__ import print_function\n",
    "from ipywidgets import interact, interactive, fixed, interact_manual\n",
    "import ipywidgets as widgets\n",
    "from IPython.display import display, Math\n",
    "\n",
    "F_a = widgets.Text('1.7, 2.1, 3', description=r'\\(F_a\\)')\n",
    "F_b = widgets.Text('1.2, 1,4, 2.7', description=r'\\(F_b\\)')\n",
    "b = widgets.Text('1, 1, 1', description=r'\\(b\\)')\n",
    "ui = widgets.VBox([F_a, F_b, b])\n",
    "\n",
    "def intensification_factor(F_a, F_b, b):\n",
    "    \n",
    "    try:\n",
    "    \n",
    "        F_a = [float(i) for i in F_a.split(',')]\n",
    "        F_b = [float(i) for i in F_b.split(',')]\n",
    "        b = [float(i) for i in b.split(',')]\n",
    "    \n",
    "        IF = 1\n",
    "\n",
    "        for i in range(len(F_a)):\n",
    "\n",
    "            IF = IF*((F_a[i]/F_b[i])**b[i])\n",
    "\n",
    "        #display(Math(r'IF = '+ str(round(IF,4))))\n",
    "        print('IF = ', IF)\n",
    "    \n",
    "    except:\n",
    "        \n",
    "        print('IF = -')\n",
    "\n",
    "\n",
    "out = widgets.interactive_output(intensification_factor, {'F_a': F_a, 'F_b': F_b, 'b': b})\n",
    "\n",
    "display(ui, out)"
   ]
  },
  {
   "cell_type": "code",
   "execution_count": null,
   "metadata": {},
   "outputs": [],
   "source": []
  }
 ],
 "metadata": {
  "kernelspec": {
   "display_name": "Python 3",
   "language": "python",
   "name": "python3"
  },
  "language_info": {
   "codemirror_mode": {
    "name": "ipython",
    "version": 3
   },
   "file_extension": ".py",
   "mimetype": "text/x-python",
   "name": "python",
   "nbconvert_exporter": "python",
   "pygments_lexer": "ipython3",
   "version": "3.8.5"
  },
  "widgets": {
   "application/vnd.jupyter.widget-state+json": {
    "state": {
     "138eea8995ef48f3833e3de551f79c90": {
      "model_module": "@jupyter-widgets/base",
      "model_module_version": "1.2.0",
      "model_name": "LayoutModel",
      "state": {}
     },
     "204be1cde9b14531aeb64ba347c43616": {
      "model_module": "@jupyter-widgets/controls",
      "model_module_version": "1.5.0",
      "model_name": "VBoxModel",
      "state": {
       "children": [
        "IPY_MODEL_e8a7cfdaa74646beb72044498b592524",
        "IPY_MODEL_bfece9b7a2c54e158587f194f42f687c",
        "IPY_MODEL_4997deec30604c27a67def50dfbdc756"
       ],
       "layout": "IPY_MODEL_60d79015e57c4ea89e83d0408333579c"
      }
     },
     "20fa413bd48641378ff88fe82c5daaa4": {
      "model_module": "@jupyter-widgets/base",
      "model_module_version": "1.2.0",
      "model_name": "LayoutModel",
      "state": {}
     },
     "290b9b21b39e4f94addd50e92a6bb465": {
      "model_module": "@jupyter-widgets/base",
      "model_module_version": "1.2.0",
      "model_name": "LayoutModel",
      "state": {}
     },
     "4997deec30604c27a67def50dfbdc756": {
      "model_module": "@jupyter-widgets/controls",
      "model_module_version": "1.5.0",
      "model_name": "TextModel",
      "state": {
       "description": "\\(b\\)",
       "layout": "IPY_MODEL_138eea8995ef48f3833e3de551f79c90",
       "style": "IPY_MODEL_b25327de06b942109eea01edad767fc4",
       "value": "1, 1, 1"
      }
     },
     "5602f34389f64f1997d910101a3774cb": {
      "model_module": "@jupyter-widgets/controls",
      "model_module_version": "1.5.0",
      "model_name": "DescriptionStyleModel",
      "state": {
       "description_width": ""
      }
     },
     "57d346ab2f2b451984839283cafc3c1d": {
      "model_module": "@jupyter-widgets/base",
      "model_module_version": "1.2.0",
      "model_name": "LayoutModel",
      "state": {}
     },
     "60d79015e57c4ea89e83d0408333579c": {
      "model_module": "@jupyter-widgets/base",
      "model_module_version": "1.2.0",
      "model_name": "LayoutModel",
      "state": {}
     },
     "9fa291a80d90445c94c14f24c501a470": {
      "model_module": "@jupyter-widgets/output",
      "model_module_version": "1.0.0",
      "model_name": "OutputModel",
      "state": {
       "layout": "IPY_MODEL_20fa413bd48641378ff88fe82c5daaa4",
       "outputs": [
        {
         "name": "stdout",
         "output_type": "stream",
         "text": "IF =  2.23125\n"
        }
       ]
      }
     },
     "b25327de06b942109eea01edad767fc4": {
      "model_module": "@jupyter-widgets/controls",
      "model_module_version": "1.5.0",
      "model_name": "DescriptionStyleModel",
      "state": {
       "description_width": ""
      }
     },
     "bfece9b7a2c54e158587f194f42f687c": {
      "model_module": "@jupyter-widgets/controls",
      "model_module_version": "1.5.0",
      "model_name": "TextModel",
      "state": {
       "description": "\\(F_b\\)",
       "layout": "IPY_MODEL_57d346ab2f2b451984839283cafc3c1d",
       "style": "IPY_MODEL_5602f34389f64f1997d910101a3774cb",
       "value": "1.2, 1,4, 2.7"
      }
     },
     "e8a7cfdaa74646beb72044498b592524": {
      "model_module": "@jupyter-widgets/controls",
      "model_module_version": "1.5.0",
      "model_name": "TextModel",
      "state": {
       "description": "\\(F_a\\)",
       "layout": "IPY_MODEL_290b9b21b39e4f94addd50e92a6bb465",
       "style": "IPY_MODEL_ea83c451589e4bdbbff2bd000cae5fe5",
       "value": "1.7, 2.1, 3"
      }
     },
     "ea83c451589e4bdbbff2bd000cae5fe5": {
      "model_module": "@jupyter-widgets/controls",
      "model_module_version": "1.5.0",
      "model_name": "DescriptionStyleModel",
      "state": {
       "description_width": ""
      }
     }
    },
    "version_major": 2,
    "version_minor": 0
   }
  }
 },
 "nbformat": 4,
 "nbformat_minor": 4
}
