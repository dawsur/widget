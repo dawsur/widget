{
 "cells": [
  {
   "cell_type": "code",
   "execution_count": 5,
   "metadata": {},
   "outputs": [
    {
     "data": {
      "text/html": [
       "<script>\n",
       "$('div.input').hide();\n",
       "</script>\n"
      ],
      "text/plain": [
       "<IPython.core.display.HTML object>"
      ]
     },
     "execution_count": 5,
     "metadata": {},
     "output_type": "execute_result"
    }
   ],
   "source": [
    "from IPython.display import HTML\n",
    "\n",
    "HTML('''<script>\n",
    "$('div.input').hide();\n",
    "</script>\n",
    "''')"
   ]
  },
  {
   "cell_type": "code",
   "execution_count": 6,
   "metadata": {},
   "outputs": [
    {
     "data": {
      "application/vnd.jupyter.widget-view+json": {
       "model_id": "7f626d2e7fe94edca3a773e63e1c999e",
       "version_major": 2,
       "version_minor": 0
      },
      "text/plain": [
       "VBox(children=(Text(value='1.7, 2.1, 3', description='\\\\(F_a\\\\)'), Text(value='1.2, 1,4, 2.7', description='\\\\…"
      ]
     },
     "metadata": {},
     "output_type": "display_data"
    },
    {
     "data": {
      "application/vnd.jupyter.widget-view+json": {
       "model_id": "4d2f44ea9ff74f0b91c300f969521e7a",
       "version_major": 2,
       "version_minor": 0
      },
      "text/plain": [
       "Output()"
      ]
     },
     "metadata": {},
     "output_type": "display_data"
    }
   ],
   "source": [
    "from __future__ import print_function\n",
    "from ipywidgets import interact, interactive, fixed, interact_manual\n",
    "import ipywidgets as widgets\n",
    "from IPython.display import display, Math\n",
    "\n",
    "F_a = widgets.Text('1.7, 2.1, 3', description=r'\\(F_a\\)')\n",
    "F_b = widgets.Text('1.2, 1,4, 2.7', description=r'\\(F_b\\)')\n",
    "b = widgets.Text('1, 1, 1', description=r'\\(b\\)')\n",
    "ui = widgets.VBox([F_a, F_b, b])\n",
    "\n",
    "def intensification_factor(F_a, F_b, b):\n",
    "    \n",
    "    try:\n",
    "    \n",
    "        F_a = [float(i) for i in F_a.split(',')]\n",
    "        F_b = [float(i) for i in F_b.split(',')]\n",
    "        b = [float(i) for i in b.split(',')]\n",
    "    \n",
    "        IF = 1\n",
    "\n",
    "        for i in range(len(F_a)):\n",
    "\n",
    "            IF = IF*((F_a[i]/F_b[i])**b[i])\n",
    "\n",
    "        #display(Math(r'IF = '+ str(round(IF,4))))\n",
    "        print('IF = ', IF)\n",
    "    \n",
    "    except:\n",
    "        \n",
    "        print('IF = -')\n",
    "\n",
    "\n",
    "out = widgets.interactive_output(intensification_factor, {'F_a': F_a, 'F_b': F_b, 'b': b})\n",
    "\n",
    "display(ui, out)"
   ]
  }
 ],
 "metadata": {
  "kernelspec": {
   "display_name": "Python 3",
   "language": "python",
   "name": "python3"
  },
  "language_info": {
   "codemirror_mode": {
    "name": "ipython",
    "version": 3
   },
   "file_extension": ".py",
   "mimetype": "text/x-python",
   "name": "python",
   "nbconvert_exporter": "python",
   "pygments_lexer": "ipython3",
   "version": "3.8.5"
  },
  "widgets": {
   "application/vnd.jupyter.widget-state+json": {
    "state": {
     "0104afdaf836428b967ccf620849a787": {
      "model_module": "@jupyter-widgets/base",
      "model_module_version": "1.2.0",
      "model_name": "LayoutModel",
      "state": {}
     },
     "0a2712c04b994c97890a0eef54aefa82": {
      "model_module": "@jupyter-widgets/controls",
      "model_module_version": "1.5.0",
      "model_name": "TextModel",
      "state": {
       "description": "\\(F_a\\)",
       "layout": "IPY_MODEL_f37d41f9127645f8800a8bea567bd48e",
       "style": "IPY_MODEL_74a0e600d49c468a9500fd145264c58d",
       "value": "1.7, 2.1, 3"
      }
     },
     "0b43b2c2537441c6b0f44a45543ecbd6": {
      "model_module": "@jupyter-widgets/controls",
      "model_module_version": "1.5.0",
      "model_name": "DescriptionStyleModel",
      "state": {
       "description_width": ""
      }
     },
     "138eea8995ef48f3833e3de551f79c90": {
      "model_module": "@jupyter-widgets/base",
      "model_module_version": "1.2.0",
      "model_name": "LayoutModel",
      "state": {}
     },
     "17f5ac34c923460b9267fde759f118f3": {
      "model_module": "@jupyter-widgets/controls",
      "model_module_version": "1.5.0",
      "model_name": "TextModel",
      "state": {
       "description": "\\(b\\)",
       "layout": "IPY_MODEL_f6cea258968a4ebf9e7d6735129b6db9",
       "style": "IPY_MODEL_7dce2095b4754c90a8ffa240089b9276",
       "value": "1, 1, 1"
      }
     },
     "1af3ac74d4a248248df45c3f831949fc": {
      "model_module": "@jupyter-widgets/controls",
      "model_module_version": "1.5.0",
      "model_name": "TextModel",
      "state": {
       "description": "\\(F_b\\)",
       "layout": "IPY_MODEL_ae5f11bb3a98454b9c08941e67ab4256",
       "style": "IPY_MODEL_35cffc34651b4868892503887170b3e0",
       "value": "1.2, 1,4, 2.7"
      }
     },
     "1e89ff517b444029b463737788ea0681": {
      "model_module": "@jupyter-widgets/base",
      "model_module_version": "1.2.0",
      "model_name": "LayoutModel",
      "state": {}
     },
     "204be1cde9b14531aeb64ba347c43616": {
      "model_module": "@jupyter-widgets/controls",
      "model_module_version": "1.5.0",
      "model_name": "VBoxModel",
      "state": {
       "children": [
        "IPY_MODEL_e8a7cfdaa74646beb72044498b592524",
        "IPY_MODEL_bfece9b7a2c54e158587f194f42f687c",
        "IPY_MODEL_4997deec30604c27a67def50dfbdc756"
       ],
       "layout": "IPY_MODEL_60d79015e57c4ea89e83d0408333579c"
      }
     },
     "20fa413bd48641378ff88fe82c5daaa4": {
      "model_module": "@jupyter-widgets/base",
      "model_module_version": "1.2.0",
      "model_name": "LayoutModel",
      "state": {}
     },
     "225355eda3bf46878bfd6bad96563b04": {
      "model_module": "@jupyter-widgets/controls",
      "model_module_version": "1.5.0",
      "model_name": "TextModel",
      "state": {
       "description": "\\(F_a\\)",
       "layout": "IPY_MODEL_5de54ef58f8848b1ac5cf72bde9f91f0",
       "style": "IPY_MODEL_dfe9bf62f51d41119fba53a3d3dc929d",
       "value": "1.7, 2.1, 3"
      }
     },
     "290b9b21b39e4f94addd50e92a6bb465": {
      "model_module": "@jupyter-widgets/base",
      "model_module_version": "1.2.0",
      "model_name": "LayoutModel",
      "state": {}
     },
     "2f9ea869af95478ab55454aabdc6f52d": {
      "model_module": "@jupyter-widgets/controls",
      "model_module_version": "1.5.0",
      "model_name": "DescriptionStyleModel",
      "state": {
       "description_width": ""
      }
     },
     "344a31a3405143fd8db23c489a0ce9a7": {
      "model_module": "@jupyter-widgets/controls",
      "model_module_version": "1.5.0",
      "model_name": "TextModel",
      "state": {
       "description": "\\(F_b\\)",
       "layout": "IPY_MODEL_3b9aea2d1bab4a20a903267e30594328",
       "style": "IPY_MODEL_c5becde1ca574e6f8ba552d50a390b73",
       "value": "1.2, 1,4, 2.7"
      }
     },
     "35cffc34651b4868892503887170b3e0": {
      "model_module": "@jupyter-widgets/controls",
      "model_module_version": "1.5.0",
      "model_name": "DescriptionStyleModel",
      "state": {
       "description_width": ""
      }
     },
     "3a8ae7b933754fe9a32453ad8bb18cab": {
      "model_module": "@jupyter-widgets/output",
      "model_module_version": "1.0.0",
      "model_name": "OutputModel",
      "state": {
       "layout": "IPY_MODEL_d59cb428284b439b9d407ce13ef7b15b",
       "outputs": [
        {
         "name": "stdout",
         "output_type": "stream",
         "text": "IF =  2.23125\n"
        }
       ]
      }
     },
     "3b91a746e4e84dcaaad8d2bdf36fb6f3": {
      "model_module": "@jupyter-widgets/base",
      "model_module_version": "1.2.0",
      "model_name": "LayoutModel",
      "state": {}
     },
     "3b9aea2d1bab4a20a903267e30594328": {
      "model_module": "@jupyter-widgets/base",
      "model_module_version": "1.2.0",
      "model_name": "LayoutModel",
      "state": {}
     },
     "3dbeac0b0b8d48298d7008fbdbd3fb61": {
      "model_module": "@jupyter-widgets/base",
      "model_module_version": "1.2.0",
      "model_name": "LayoutModel",
      "state": {}
     },
     "3e0c0fadf2f448c38fd7d5b348afe369": {
      "model_module": "@jupyter-widgets/base",
      "model_module_version": "1.2.0",
      "model_name": "LayoutModel",
      "state": {}
     },
     "47c4ad2c53224a8f8b77502511ba0637": {
      "model_module": "@jupyter-widgets/base",
      "model_module_version": "1.2.0",
      "model_name": "LayoutModel",
      "state": {}
     },
     "49026aa04a464c66bbf8ac7ca454bd0e": {
      "model_module": "@jupyter-widgets/controls",
      "model_module_version": "1.5.0",
      "model_name": "TextModel",
      "state": {
       "description": "\\(F_b\\)",
       "layout": "IPY_MODEL_76f776e306544367920a022e6e5b2a7c",
       "style": "IPY_MODEL_9c3a77e1d44e4970afb7594614d3fa96",
       "value": "1.2, 1,4, 2.7"
      }
     },
     "4997deec30604c27a67def50dfbdc756": {
      "model_module": "@jupyter-widgets/controls",
      "model_module_version": "1.5.0",
      "model_name": "TextModel",
      "state": {
       "description": "\\(b\\)",
       "layout": "IPY_MODEL_138eea8995ef48f3833e3de551f79c90",
       "style": "IPY_MODEL_b25327de06b942109eea01edad767fc4",
       "value": "1, 1, 1"
      }
     },
     "4d2f44ea9ff74f0b91c300f969521e7a": {
      "model_module": "@jupyter-widgets/output",
      "model_module_version": "1.0.0",
      "model_name": "OutputModel",
      "state": {
       "layout": "IPY_MODEL_c6dcdd482d484132baf6c65cc40c1cd1",
       "outputs": [
        {
         "name": "stdout",
         "output_type": "stream",
         "text": "IF =  2.23125\n"
        }
       ]
      }
     },
     "5602f34389f64f1997d910101a3774cb": {
      "model_module": "@jupyter-widgets/controls",
      "model_module_version": "1.5.0",
      "model_name": "DescriptionStyleModel",
      "state": {
       "description_width": ""
      }
     },
     "5787ba4c9bc04487bdf26afe89c92d23": {
      "model_module": "@jupyter-widgets/controls",
      "model_module_version": "1.5.0",
      "model_name": "TextModel",
      "state": {
       "description": "\\(b\\)",
       "layout": "IPY_MODEL_febee115f0cc430e9abdc6005b626e40",
       "style": "IPY_MODEL_663a623100b34f5d9278930a3dca4e57",
       "value": "1, 1, 1"
      }
     },
     "57d346ab2f2b451984839283cafc3c1d": {
      "model_module": "@jupyter-widgets/base",
      "model_module_version": "1.2.0",
      "model_name": "LayoutModel",
      "state": {}
     },
     "5de54ef58f8848b1ac5cf72bde9f91f0": {
      "model_module": "@jupyter-widgets/base",
      "model_module_version": "1.2.0",
      "model_name": "LayoutModel",
      "state": {}
     },
     "60d79015e57c4ea89e83d0408333579c": {
      "model_module": "@jupyter-widgets/base",
      "model_module_version": "1.2.0",
      "model_name": "LayoutModel",
      "state": {}
     },
     "663a623100b34f5d9278930a3dca4e57": {
      "model_module": "@jupyter-widgets/controls",
      "model_module_version": "1.5.0",
      "model_name": "DescriptionStyleModel",
      "state": {
       "description_width": ""
      }
     },
     "74a0e600d49c468a9500fd145264c58d": {
      "model_module": "@jupyter-widgets/controls",
      "model_module_version": "1.5.0",
      "model_name": "DescriptionStyleModel",
      "state": {
       "description_width": ""
      }
     },
     "76f776e306544367920a022e6e5b2a7c": {
      "model_module": "@jupyter-widgets/base",
      "model_module_version": "1.2.0",
      "model_name": "LayoutModel",
      "state": {}
     },
     "7dce2095b4754c90a8ffa240089b9276": {
      "model_module": "@jupyter-widgets/controls",
      "model_module_version": "1.5.0",
      "model_name": "DescriptionStyleModel",
      "state": {
       "description_width": ""
      }
     },
     "7e5b88549cc24382a52ee9c77279acd9": {
      "model_module": "@jupyter-widgets/base",
      "model_module_version": "1.2.0",
      "model_name": "LayoutModel",
      "state": {}
     },
     "7f626d2e7fe94edca3a773e63e1c999e": {
      "model_module": "@jupyter-widgets/controls",
      "model_module_version": "1.5.0",
      "model_name": "VBoxModel",
      "state": {
       "children": [
        "IPY_MODEL_b1a96c47eaad400586bb815272593c71",
        "IPY_MODEL_fa615dcdd4094cddb5134567a6e30235",
        "IPY_MODEL_84650d0247934401af828e050ad82af6"
       ],
       "layout": "IPY_MODEL_b003676293434223a798a5ed424cf2c8"
      }
     },
     "827c53bdf6cf4768884b221718dc5076": {
      "model_module": "@jupyter-widgets/controls",
      "model_module_version": "1.5.0",
      "model_name": "DescriptionStyleModel",
      "state": {
       "description_width": ""
      }
     },
     "84650d0247934401af828e050ad82af6": {
      "model_module": "@jupyter-widgets/controls",
      "model_module_version": "1.5.0",
      "model_name": "TextModel",
      "state": {
       "description": "\\(b\\)",
       "layout": "IPY_MODEL_eb67c2a056b84ae98ba759ddbb36c3a0",
       "style": "IPY_MODEL_2f9ea869af95478ab55454aabdc6f52d",
       "value": "1, 1, 1"
      }
     },
     "85a35d1462074d4b8f3aaaf954d44a47": {
      "model_module": "@jupyter-widgets/controls",
      "model_module_version": "1.5.0",
      "model_name": "DescriptionStyleModel",
      "state": {
       "description_width": ""
      }
     },
     "93bfaaa2940342ada8743201e1559880": {
      "model_module": "@jupyter-widgets/controls",
      "model_module_version": "1.5.0",
      "model_name": "TextModel",
      "state": {
       "description": "\\(b\\)",
       "layout": "IPY_MODEL_3dbeac0b0b8d48298d7008fbdbd3fb61",
       "style": "IPY_MODEL_0b43b2c2537441c6b0f44a45543ecbd6",
       "value": "1, 1, 1"
      }
     },
     "9c3a77e1d44e4970afb7594614d3fa96": {
      "model_module": "@jupyter-widgets/controls",
      "model_module_version": "1.5.0",
      "model_name": "DescriptionStyleModel",
      "state": {
       "description_width": ""
      }
     },
     "9fa291a80d90445c94c14f24c501a470": {
      "model_module": "@jupyter-widgets/output",
      "model_module_version": "1.0.0",
      "model_name": "OutputModel",
      "state": {
       "layout": "IPY_MODEL_20fa413bd48641378ff88fe82c5daaa4",
       "outputs": [
        {
         "name": "stdout",
         "output_type": "stream",
         "text": "IF =  2.23125\n"
        }
       ]
      }
     },
     "acece53fe8764affb97a0d225d2529bc": {
      "model_module": "@jupyter-widgets/controls",
      "model_module_version": "1.5.0",
      "model_name": "VBoxModel",
      "state": {
       "children": [
        "IPY_MODEL_0a2712c04b994c97890a0eef54aefa82",
        "IPY_MODEL_344a31a3405143fd8db23c489a0ce9a7",
        "IPY_MODEL_93bfaaa2940342ada8743201e1559880"
       ],
       "layout": "IPY_MODEL_3e0c0fadf2f448c38fd7d5b348afe369"
      }
     },
     "ae5f11bb3a98454b9c08941e67ab4256": {
      "model_module": "@jupyter-widgets/base",
      "model_module_version": "1.2.0",
      "model_name": "LayoutModel",
      "state": {}
     },
     "af602b32de884863a0b93ead51e4a401": {
      "model_module": "@jupyter-widgets/base",
      "model_module_version": "1.2.0",
      "model_name": "LayoutModel",
      "state": {}
     },
     "b003676293434223a798a5ed424cf2c8": {
      "model_module": "@jupyter-widgets/base",
      "model_module_version": "1.2.0",
      "model_name": "LayoutModel",
      "state": {}
     },
     "b1a96c47eaad400586bb815272593c71": {
      "model_module": "@jupyter-widgets/controls",
      "model_module_version": "1.5.0",
      "model_name": "TextModel",
      "state": {
       "description": "\\(F_a\\)",
       "layout": "IPY_MODEL_af602b32de884863a0b93ead51e4a401",
       "style": "IPY_MODEL_ea9165bd0c374d9eb1177e32a9e7e77f",
       "value": "1.7, 2.1, 3"
      }
     },
     "b25327de06b942109eea01edad767fc4": {
      "model_module": "@jupyter-widgets/controls",
      "model_module_version": "1.5.0",
      "model_name": "DescriptionStyleModel",
      "state": {
       "description_width": ""
      }
     },
     "bda666987d6b4e7ea35f2720ba02e643": {
      "model_module": "@jupyter-widgets/output",
      "model_module_version": "1.0.0",
      "model_name": "OutputModel",
      "state": {
       "layout": "IPY_MODEL_cce1e6610dc64795af7293cc3d58e34c",
       "outputs": [
        {
         "name": "stdout",
         "output_type": "stream",
         "text": "IF =  2.23125\n"
        }
       ]
      }
     },
     "bfece9b7a2c54e158587f194f42f687c": {
      "model_module": "@jupyter-widgets/controls",
      "model_module_version": "1.5.0",
      "model_name": "TextModel",
      "state": {
       "description": "\\(F_b\\)",
       "layout": "IPY_MODEL_57d346ab2f2b451984839283cafc3c1d",
       "style": "IPY_MODEL_5602f34389f64f1997d910101a3774cb",
       "value": "1.2, 1,4, 2.7"
      }
     },
     "c5becde1ca574e6f8ba552d50a390b73": {
      "model_module": "@jupyter-widgets/controls",
      "model_module_version": "1.5.0",
      "model_name": "DescriptionStyleModel",
      "state": {
       "description_width": ""
      }
     },
     "c692d9d41e334ea8aac8be1ce301e92d": {
      "model_module": "@jupyter-widgets/output",
      "model_module_version": "1.0.0",
      "model_name": "OutputModel",
      "state": {
       "layout": "IPY_MODEL_47c4ad2c53224a8f8b77502511ba0637",
       "outputs": [
        {
         "name": "stdout",
         "output_type": "stream",
         "text": "IF =  2.23125\n"
        }
       ]
      }
     },
     "c6dcdd482d484132baf6c65cc40c1cd1": {
      "model_module": "@jupyter-widgets/base",
      "model_module_version": "1.2.0",
      "model_name": "LayoutModel",
      "state": {}
     },
     "cce1e6610dc64795af7293cc3d58e34c": {
      "model_module": "@jupyter-widgets/base",
      "model_module_version": "1.2.0",
      "model_name": "LayoutModel",
      "state": {}
     },
     "ced49e7ff3904a4cbfca4cbca36420b1": {
      "model_module": "@jupyter-widgets/controls",
      "model_module_version": "1.5.0",
      "model_name": "TextModel",
      "state": {
       "description": "\\(F_a\\)",
       "layout": "IPY_MODEL_3b91a746e4e84dcaaad8d2bdf36fb6f3",
       "style": "IPY_MODEL_827c53bdf6cf4768884b221718dc5076",
       "value": "1.7, 2.1, 3"
      }
     },
     "d59cb428284b439b9d407ce13ef7b15b": {
      "model_module": "@jupyter-widgets/base",
      "model_module_version": "1.2.0",
      "model_name": "LayoutModel",
      "state": {}
     },
     "dfe9bf62f51d41119fba53a3d3dc929d": {
      "model_module": "@jupyter-widgets/controls",
      "model_module_version": "1.5.0",
      "model_name": "DescriptionStyleModel",
      "state": {
       "description_width": ""
      }
     },
     "e8a7cfdaa74646beb72044498b592524": {
      "model_module": "@jupyter-widgets/controls",
      "model_module_version": "1.5.0",
      "model_name": "TextModel",
      "state": {
       "description": "\\(F_a\\)",
       "layout": "IPY_MODEL_290b9b21b39e4f94addd50e92a6bb465",
       "style": "IPY_MODEL_ea83c451589e4bdbbff2bd000cae5fe5",
       "value": "1.7, 2.1, 3"
      }
     },
     "ea83c451589e4bdbbff2bd000cae5fe5": {
      "model_module": "@jupyter-widgets/controls",
      "model_module_version": "1.5.0",
      "model_name": "DescriptionStyleModel",
      "state": {
       "description_width": ""
      }
     },
     "ea9165bd0c374d9eb1177e32a9e7e77f": {
      "model_module": "@jupyter-widgets/controls",
      "model_module_version": "1.5.0",
      "model_name": "DescriptionStyleModel",
      "state": {
       "description_width": ""
      }
     },
     "eb67c2a056b84ae98ba759ddbb36c3a0": {
      "model_module": "@jupyter-widgets/base",
      "model_module_version": "1.2.0",
      "model_name": "LayoutModel",
      "state": {}
     },
     "f37d41f9127645f8800a8bea567bd48e": {
      "model_module": "@jupyter-widgets/base",
      "model_module_version": "1.2.0",
      "model_name": "LayoutModel",
      "state": {}
     },
     "f6cea258968a4ebf9e7d6735129b6db9": {
      "model_module": "@jupyter-widgets/base",
      "model_module_version": "1.2.0",
      "model_name": "LayoutModel",
      "state": {}
     },
     "fa615dcdd4094cddb5134567a6e30235": {
      "model_module": "@jupyter-widgets/controls",
      "model_module_version": "1.5.0",
      "model_name": "TextModel",
      "state": {
       "description": "\\(F_b\\)",
       "layout": "IPY_MODEL_0104afdaf836428b967ccf620849a787",
       "style": "IPY_MODEL_85a35d1462074d4b8f3aaaf954d44a47",
       "value": "1.2, 1,4, 2.7"
      }
     },
     "fe6841b442a14d178be30dc03363beb3": {
      "model_module": "@jupyter-widgets/controls",
      "model_module_version": "1.5.0",
      "model_name": "VBoxModel",
      "state": {
       "children": [
        "IPY_MODEL_225355eda3bf46878bfd6bad96563b04",
        "IPY_MODEL_49026aa04a464c66bbf8ac7ca454bd0e",
        "IPY_MODEL_17f5ac34c923460b9267fde759f118f3"
       ],
       "layout": "IPY_MODEL_7e5b88549cc24382a52ee9c77279acd9"
      }
     },
     "fe7098f005f6484182f10b01b9a829b9": {
      "model_module": "@jupyter-widgets/controls",
      "model_module_version": "1.5.0",
      "model_name": "VBoxModel",
      "state": {
       "children": [
        "IPY_MODEL_ced49e7ff3904a4cbfca4cbca36420b1",
        "IPY_MODEL_1af3ac74d4a248248df45c3f831949fc",
        "IPY_MODEL_5787ba4c9bc04487bdf26afe89c92d23"
       ],
       "layout": "IPY_MODEL_1e89ff517b444029b463737788ea0681"
      }
     },
     "febee115f0cc430e9abdc6005b626e40": {
      "model_module": "@jupyter-widgets/base",
      "model_module_version": "1.2.0",
      "model_name": "LayoutModel",
      "state": {}
     }
    },
    "version_major": 2,
    "version_minor": 0
   }
  }
 },
 "nbformat": 4,
 "nbformat_minor": 4
}
